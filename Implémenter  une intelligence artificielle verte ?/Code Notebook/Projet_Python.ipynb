{
  "nbformat": 4,
  "nbformat_minor": 0,
  "metadata": {
    "colab": {
      "provenance": []
    },
    "kernelspec": {
      "name": "python3",
      "display_name": "Python 3"
    },
    "language_info": {
      "name": "python"
    }
  },
  "cells": [
    {
      "cell_type": "code",
      "source": [
        "pip install trafilatura"
      ],
      "metadata": {
        "colab": {
          "base_uri": "https://localhost:8080/"
        },
        "collapsed": true,
        "id": "qhj5V9eppbCx",
        "outputId": "afbe1d72-c06b-45f9-bb5e-76cde9c083a4"
      },
      "execution_count": null,
      "outputs": [
        {
          "output_type": "stream",
          "name": "stdout",
          "text": [
            "Requirement already satisfied: trafilatura in /usr/local/lib/python3.11/dist-packages (2.0.0)\n",
            "Requirement already satisfied: certifi in /usr/local/lib/python3.11/dist-packages (from trafilatura) (2025.1.31)\n",
            "Requirement already satisfied: charset_normalizer>=3.4.0 in /usr/local/lib/python3.11/dist-packages (from trafilatura) (3.4.1)\n",
            "Requirement already satisfied: courlan>=1.3.2 in /usr/local/lib/python3.11/dist-packages (from trafilatura) (1.3.2)\n",
            "Requirement already satisfied: htmldate>=1.9.2 in /usr/local/lib/python3.11/dist-packages (from trafilatura) (1.9.3)\n",
            "Requirement already satisfied: justext>=3.0.1 in /usr/local/lib/python3.11/dist-packages (from trafilatura) (3.0.2)\n",
            "Requirement already satisfied: lxml>=5.3.0 in /usr/local/lib/python3.11/dist-packages (from trafilatura) (5.3.1)\n",
            "Requirement already satisfied: urllib3<3,>=1.26 in /usr/local/lib/python3.11/dist-packages (from trafilatura) (2.3.0)\n",
            "Requirement already satisfied: babel>=2.16.0 in /usr/local/lib/python3.11/dist-packages (from courlan>=1.3.2->trafilatura) (2.17.0)\n",
            "Requirement already satisfied: tld>=0.13 in /usr/local/lib/python3.11/dist-packages (from courlan>=1.3.2->trafilatura) (0.13)\n",
            "Requirement already satisfied: dateparser>=1.1.2 in /usr/local/lib/python3.11/dist-packages (from htmldate>=1.9.2->trafilatura) (1.2.1)\n",
            "Requirement already satisfied: python-dateutil>=2.9.0.post0 in /usr/local/lib/python3.11/dist-packages (from htmldate>=1.9.2->trafilatura) (2.9.0.post0)\n",
            "Requirement already satisfied: pytz>=2024.2 in /usr/local/lib/python3.11/dist-packages (from dateparser>=1.1.2->htmldate>=1.9.2->trafilatura) (2025.1)\n",
            "Requirement already satisfied: regex!=2019.02.19,!=2021.8.27,>=2015.06.24 in /usr/local/lib/python3.11/dist-packages (from dateparser>=1.1.2->htmldate>=1.9.2->trafilatura) (2024.11.6)\n",
            "Requirement already satisfied: tzlocal>=0.2 in /usr/local/lib/python3.11/dist-packages (from dateparser>=1.1.2->htmldate>=1.9.2->trafilatura) (5.3.1)\n",
            "Requirement already satisfied: lxml_html_clean in /usr/local/lib/python3.11/dist-packages (from lxml[html_clean]>=4.4.2->justext>=3.0.1->trafilatura) (0.4.1)\n",
            "Requirement already satisfied: six>=1.5 in /usr/local/lib/python3.11/dist-packages (from python-dateutil>=2.9.0.post0->htmldate>=1.9.2->trafilatura) (1.17.0)\n"
          ]
        }
      ]
    },
    {
      "cell_type": "code",
      "source": [
        "pip install selenium"
      ],
      "metadata": {
        "colab": {
          "base_uri": "https://localhost:8080/"
        },
        "collapsed": true,
        "id": "D7G9VJxqwRRB",
        "outputId": "caf597f9-49bf-462c-8718-3bdc9baebcbc"
      },
      "execution_count": null,
      "outputs": [
        {
          "output_type": "stream",
          "name": "stdout",
          "text": [
            "Collecting selenium\n",
            "  Downloading selenium-4.30.0-py3-none-any.whl.metadata (7.5 kB)\n",
            "Requirement already satisfied: urllib3<3,>=1.26 in /usr/local/lib/python3.11/dist-packages (from urllib3[socks]<3,>=1.26->selenium) (2.3.0)\n",
            "Collecting trio~=0.17 (from selenium)\n",
            "  Downloading trio-0.29.0-py3-none-any.whl.metadata (8.5 kB)\n",
            "Collecting trio-websocket~=0.9 (from selenium)\n",
            "  Downloading trio_websocket-0.12.2-py3-none-any.whl.metadata (5.1 kB)\n",
            "Requirement already satisfied: certifi>=2021.10.8 in /usr/local/lib/python3.11/dist-packages (from selenium) (2025.1.31)\n",
            "Requirement already satisfied: typing_extensions~=4.9 in /usr/local/lib/python3.11/dist-packages (from selenium) (4.12.2)\n",
            "Requirement already satisfied: websocket-client~=1.8 in /usr/local/lib/python3.11/dist-packages (from selenium) (1.8.0)\n",
            "Requirement already satisfied: attrs>=23.2.0 in /usr/local/lib/python3.11/dist-packages (from trio~=0.17->selenium) (25.3.0)\n",
            "Requirement already satisfied: sortedcontainers in /usr/local/lib/python3.11/dist-packages (from trio~=0.17->selenium) (2.4.0)\n",
            "Requirement already satisfied: idna in /usr/local/lib/python3.11/dist-packages (from trio~=0.17->selenium) (3.10)\n",
            "Collecting outcome (from trio~=0.17->selenium)\n",
            "  Downloading outcome-1.3.0.post0-py2.py3-none-any.whl.metadata (2.6 kB)\n",
            "Requirement already satisfied: sniffio>=1.3.0 in /usr/local/lib/python3.11/dist-packages (from trio~=0.17->selenium) (1.3.1)\n",
            "Collecting wsproto>=0.14 (from trio-websocket~=0.9->selenium)\n",
            "  Downloading wsproto-1.2.0-py3-none-any.whl.metadata (5.6 kB)\n",
            "Requirement already satisfied: pysocks!=1.5.7,<2.0,>=1.5.6 in /usr/local/lib/python3.11/dist-packages (from urllib3[socks]<3,>=1.26->selenium) (1.7.1)\n",
            "Requirement already satisfied: h11<1,>=0.9.0 in /usr/local/lib/python3.11/dist-packages (from wsproto>=0.14->trio-websocket~=0.9->selenium) (0.14.0)\n",
            "Downloading selenium-4.30.0-py3-none-any.whl (9.4 MB)\n",
            "\u001b[2K   \u001b[90m━━━━━━━━━━━━━━━━━━━━━━━━━━━━━━━━━━━━━━━━\u001b[0m \u001b[32m9.4/9.4 MB\u001b[0m \u001b[31m29.7 MB/s\u001b[0m eta \u001b[36m0:00:00\u001b[0m\n",
            "\u001b[?25hDownloading trio-0.29.0-py3-none-any.whl (492 kB)\n",
            "\u001b[2K   \u001b[90m━━━━━━━━━━━━━━━━━━━━━━━━━━━━━━━━━━━━━━━━\u001b[0m \u001b[32m492.9/492.9 kB\u001b[0m \u001b[31m28.2 MB/s\u001b[0m eta \u001b[36m0:00:00\u001b[0m\n",
            "\u001b[?25hDownloading trio_websocket-0.12.2-py3-none-any.whl (21 kB)\n",
            "Downloading outcome-1.3.0.post0-py2.py3-none-any.whl (10 kB)\n",
            "Downloading wsproto-1.2.0-py3-none-any.whl (24 kB)\n",
            "Installing collected packages: wsproto, outcome, trio, trio-websocket, selenium\n",
            "Successfully installed outcome-1.3.0.post0 selenium-4.30.0 trio-0.29.0 trio-websocket-0.12.2 wsproto-1.2.0\n"
          ]
        }
      ]
    },
    {
      "cell_type": "code",
      "execution_count": null,
      "metadata": {
        "id": "hgY0DLSgo_Dq"
      },
      "outputs": [],
      "source": [
        "import requests\n",
        "import trafilatura"
      ]
    },
    {
      "cell_type": "markdown",
      "source": [
        "Test avec juste un seul site"
      ],
      "metadata": {
        "id": "Xvt1dgfGd3nc"
      }
    },
    {
      "cell_type": "code",
      "source": [
        "url = \"https://riedoasis.fr/paniers-bio\"\n",
        "reponse = requests.get(url)\n",
        "downloaded = trafilatura.extract(reponse.text)\n",
        "\n",
        "print(downloaded)"
      ],
      "metadata": {
        "colab": {
          "base_uri": "https://localhost:8080/"
        },
        "id": "mBehdt1Rqh0-",
        "outputId": "1ed0e5c5-b21b-4a83-f349-86053043d241"
      },
      "execution_count": null,
      "outputs": [
        {
          "output_type": "stream",
          "name": "stdout",
          "text": [
            "Paniers Bio\n",
            "Votre panier BIO du Ried, c'est facile !\n",
            "Simplifiez-vous la vie en vous abonnant aux paniers : vous choisissez vos formules préférées, on s’occupe de tout le reste !\n",
            "Passez commande AVANT MARDI MIDI pour une livraison dans la semaine.\n",
            "1. Choisissez vos paniers\n",
            "PANIER PLEIN\n",
            "légumes pour une famille de 3 à 4 personnes\n",
            "DEMI PANIER\n",
            "légumes pour 1 à 2 personnes\n",
            "PANIER DE FRUITS\n",
            "2 à 4 variétés\n",
            "PAINS\n",
            "plusieurs tailles et types de farines\n",
            "ŒUFS\n",
            "boîte x6 ou x12\n",
            "2. Choisissez la fréquence de livraison\n",
            "Choisissez de recevoir votre panier chaque semaine ou tous les 15 jours (semaine paire ou impaire).\n",
            "Vous pouvez reporter vos paniers en cas d’absence.\n",
            "3. Choisissez votre lieu de livraison\n",
            "Les paniers sont livrés GRATUITEMENT sur 20 points de retrait :\n",
            "Dans l'Eurométropole de Strasbourg (à Strasbourg, Bischheim, Illkirch-Graffenstaden, Plobsheim)\n",
            "Dans le Grand Ried (à Erstein, Benfeld, Obenheim, Sand, Westhouse, Gerstheim, Rhinau, Kertzfeld, Herbsheim et Diebolsheim).\n",
            "4. Gérez votre abonnement\n",
            "Annulez vos paniers en cas d'absence, changez de type de panier, de fréquence de livraison et de lieu de livraison à n'importe quel moment, directement depuis votre espace client.\n",
            "Le tout AVANT MARDI MIDI pour une livraison dans la semaine.\n",
            "Je choisis mes abonnements\n",
            "▼\n",
            "Paniers principaux\n",
            "Composition des paniers\n",
            "Chaque lundi soir, nous vous communiquons la composition du panier de la semaine dans \"La Lettre du Maraîcher\".\n",
            "Vous la recevez par mail uniquement si un panier est prévu pour vous cette semaine (consultez vos \"Newsletter\" et \"SPAM\"). Vous la retrouverez aussi sur notre page Facebook @Ferme RiedOasis et sur notre site dans l'onglet \"ACTU\".\n",
            "La composition des paniers est fixe et ne peut pas être modifiée. Les variétés de légumes et les quantités annoncées peuvent évoluer selon les récoltes en courant de semaine, mais toujours en respectant la valeur de votre panier.\n",
            "J'ajoute un pain et/ou des œufs\n",
            "▼\n",
            "Un abonnement au PANIER PLEIN, DEMI PANIER et/ou PANIER DE FRUITS est nécessaire pour souscrire à un abonnement PAIN et/ou ŒUFS.\n",
            "Paniers complémentaires\n",
            "Je complète mon panier sur-mesure\n",
            "▼\n",
            "DRIVE BIO\n",
            "J'ajoute des produits à mon panier de cette semaine\n",
            "Grâce à notre Drive Bio, vous pouvez faire vos courses pour augmenter ponctuellement la quantité et la diversité de fruits et légumes de votre panier !\n",
            "Passez commande AVANT MARDI MIDI pour la recevoir avec votre panier en fin de semaine.\n",
            "Les avantages de votre abonnement\n",
            "Sans engagement\n",
            "Reportez votre panier en cas d’absence AVANT LE MARDI MIDI depuis votre espace client. À la fin du mois, vous serez simplement prélevés pour ce que vous aurez consommé.\n",
            "Résiliez votre abonnement quand vous voulez en nous contactant par mail.\n",
            "En cas d'incertitude sur votre planning il vaut mieux résilier l'abonnement. il sera simple d'en resouscrire un nouveau.\n",
            "Le meilleur prix\n",
            "Quelle que soit la formule d'abonnement, les produits sont 5% moins cher par rapport à notre prix de vente en marché.\n",
            "En été, profitez du partage de récoltes lorsque nos cultures produisent plus que prévu !\n",
            "Un geste éco-citoyen\n",
            "En vous abonnant à une formule de paniers hebdomadaires, vous soutenez dans la durée l'activité d’intérêt collectif de RiedOasis.\n"
          ]
        }
      ]
    },
    {
      "cell_type": "code",
      "source": [
        "import json\n",
        "\n",
        "chemin = \"urls.txt\"\n",
        "\n",
        "#on charge le fichier des urls\n",
        "with open('/content/urls.txt', \"r\") as f:\n",
        "    urls = [line.strip() for line in f if line.strip()]\n",
        "\n",
        "results = []\n",
        "\n",
        "for url in urls:\n",
        "    print(f\"Scraping: {url}\")\n",
        "    downloaded = trafilatura.fetch_url(url)\n",
        "\n",
        "    if downloaded is not None:\n",
        "        text = trafilatura.extract(downloaded)\n",
        "        if text:\n",
        "            results.append({\n",
        "                \"url\": url,\n",
        "                \"texte\": text\n",
        "            })\n",
        "        else:\n",
        "            print(f\"Aucun texte extrait pour : {url}\")\n",
        "    else:\n",
        "        print(f\"Échec de téléchargement pour : {url}\")\n",
        "\n",
        "#une fois le scrapping, on sauvegarde dans un fichier JSON\n",
        "with open(\"textes_sites_scrapes.json\", \"w\", encoding=\"utf-8\") as f:\n",
        "    json.dump(results, f, ensure_ascii=False, indent=2)"
      ],
      "metadata": {
        "colab": {
          "base_uri": "https://localhost:8080/"
        },
        "id": "PUyKPnQyxzzl",
        "outputId": "d8bbc40a-71f3-4125-8c07-d8f0a111241f",
        "collapsed": true
      },
      "execution_count": null,
      "outputs": [
        {
          "output_type": "stream",
          "name": "stdout",
          "text": [
            "Scraping: https://www.reussir.fr/fruits-legumes/un-concept-innovant-pour-ecouler-mes-produits\n",
            "Scraping: https://www.dna.fr/politique/2025/01/15/un-vrai-elan-de-solidarite-pour-l-epicerie-sociale\n",
            "Scraping: https://www.dna.fr/societe/2021/12/03/l-epicerie-sociale-ne-connait-pas-la-crise\n",
            "Scraping: https://www.francebleu.fr/emissions/l-eco-d-ici-ici-alsace/solibio-la-cooperative-grossiste-alsacienne-bio-a-le-vent-en-poupe-5368146\n",
            "Scraping: https://www.lespaniersdupetitlucien.fr/#informations\n",
            "Scraping: https://cop1.fr/a-propos/\n",
            "Scraping: https://cop1.fr/aide-alimentaire/\n",
            "Scraping: https://cop1.fr/ville/strasbourg/\n",
            "Scraping: https://www.foyers-etudiants-strasbourg.org/paniers-solidaires-pour-les-etudiants/\n",
            "Scraping: https://lareleveetlapeste.fr/ordonnance-verte-des-legumes-bio-gratuits-pour-les-femmes-enceintes-a-strasbourg/\n"
          ]
        },
        {
          "output_type": "stream",
          "name": "stderr",
          "text": [
            "WARNING:trafilatura.utils:invalid ZSTD file\n",
            "ERROR:trafilatura.utils:parsed tree length: 1, wrong data type or not valid HTML\n",
            "ERROR:trafilatura.core:empty HTML tree: None\n",
            "WARNING:trafilatura.core:discarding data: None\n"
          ]
        },
        {
          "output_type": "stream",
          "name": "stdout",
          "text": [
            "Aucun texte extrait pour : https://lareleveetlapeste.fr/ordonnance-verte-des-legumes-bio-gratuits-pour-les-femmes-enceintes-a-strasbourg/\n",
            "Scraping: https://pokaa.fr/2024/09/21/fruits-et-legumes-bio-rencontre-avec-ces-maraichers-locaux-qui-nourrissent-strasbourg/\n"
          ]
        },
        {
          "output_type": "stream",
          "name": "stderr",
          "text": [
            "WARNING:trafilatura.utils:invalid ZSTD file\n",
            "ERROR:trafilatura.utils:parsed tree length: 1, wrong data type or not valid HTML\n",
            "ERROR:trafilatura.core:empty HTML tree: None\n",
            "WARNING:trafilatura.core:discarding data: None\n"
          ]
        },
        {
          "output_type": "stream",
          "name": "stdout",
          "text": [
            "Aucun texte extrait pour : https://pokaa.fr/2024/09/21/fruits-et-legumes-bio-rencontre-avec-ces-maraichers-locaux-qui-nourrissent-strasbourg/\n",
            "Scraping: https://www.neozone.org/societe/la-ville-de-strasbourg-perennise-lordonnance-verte-en-offrant-des-paniers-de-legumes-bio-aux-futures-mamans/\n",
            "Scraping: https://pokaa.fr/2024/09/06/a-strasbourg-rencontre-avec-celles-et-ceux-qui-ramenent-le-bio-dans-nos-assiettes/\n"
          ]
        },
        {
          "output_type": "stream",
          "name": "stderr",
          "text": [
            "WARNING:trafilatura.utils:invalid ZSTD file\n",
            "ERROR:trafilatura.utils:parsed tree length: 1, wrong data type or not valid HTML\n",
            "ERROR:trafilatura.core:empty HTML tree: None\n",
            "WARNING:trafilatura.core:discarding data: None\n"
          ]
        },
        {
          "output_type": "stream",
          "name": "stdout",
          "text": [
            "Aucun texte extrait pour : https://pokaa.fr/2024/09/06/a-strasbourg-rencontre-avec-celles-et-ceux-qui-ramenent-le-bio-dans-nos-assiettes/\n",
            "Scraping: https://actu.fr/grand-est/strasbourg_67482/un-nouveau-marche-avec-des-horaires-adaptes-aux-gens-qui-travaillent-va-voir-le-jour-a-strasbourg_62383408.html\n"
          ]
        },
        {
          "output_type": "stream",
          "name": "stderr",
          "text": [
            "ERROR:trafilatura.downloads:not a 200 response: 403 for URL https://actu.fr/grand-est/strasbourg_67482/un-nouveau-marche-avec-des-horaires-adaptes-aux-gens-qui-travaillent-va-voir-le-jour-a-strasbourg_62383408.html\n"
          ]
        },
        {
          "output_type": "stream",
          "name": "stdout",
          "text": [
            "Échec de téléchargement pour : https://actu.fr/grand-est/strasbourg_67482/un-nouveau-marche-avec-des-horaires-adaptes-aux-gens-qui-travaillent-va-voir-le-jour-a-strasbourg_62383408.html\n",
            "Scraping: https://pokaa.fr/2024/09/27/du-magasin-a-lassiette-rencontre-avec-lequipe-de-kooma-paradis-du-bio-a-strasbourg/\n"
          ]
        },
        {
          "output_type": "stream",
          "name": "stderr",
          "text": [
            "WARNING:trafilatura.utils:invalid ZSTD file\n",
            "ERROR:trafilatura.utils:parsed tree length: 1, wrong data type or not valid HTML\n",
            "ERROR:trafilatura.core:empty HTML tree: None\n",
            "WARNING:trafilatura.core:discarding data: None\n",
            "ERROR:trafilatura.downloads:not a 200 response: 403 for URL https://actu.fr/grand-est/strasbourg_67482/exclusif-un-concept-de-restaurant-encore-jamais-vu-a-strasbourg-va-ouvrir-place-kleber_62182397.html\n"
          ]
        },
        {
          "output_type": "stream",
          "name": "stdout",
          "text": [
            "Aucun texte extrait pour : https://pokaa.fr/2024/09/27/du-magasin-a-lassiette-rencontre-avec-lequipe-de-kooma-paradis-du-bio-a-strasbourg/\n",
            "Scraping: https://actu.fr/grand-est/strasbourg_67482/exclusif-un-concept-de-restaurant-encore-jamais-vu-a-strasbourg-va-ouvrir-place-kleber_62182397.html\n",
            "Échec de téléchargement pour : https://actu.fr/grand-est/strasbourg_67482/exclusif-un-concept-de-restaurant-encore-jamais-vu-a-strasbourg-va-ouvrir-place-kleber_62182397.html\n",
            "Scraping: https://strasinfo.fr/2025/03/20/le-petit-marche-ouvre-ses-portes-a-cronenbourg-un-nouveau-concept-qui-mele-alimentaire-et-convivialite/\n",
            "Scraping: https://www.vertici.fr\n",
            "Scraping: https://pokaa.fr/2024/09/09/ils-veulent-metamorphoser-strasbourg-18-grands-projets-qui-vont-rythmer-les-prochains-mois/\n"
          ]
        },
        {
          "output_type": "stream",
          "name": "stderr",
          "text": [
            "WARNING:trafilatura.utils:invalid ZSTD file\n",
            "ERROR:trafilatura.utils:parsed tree length: 1, wrong data type or not valid HTML\n",
            "ERROR:trafilatura.core:empty HTML tree: None\n",
            "WARNING:trafilatura.core:discarding data: None\n"
          ]
        },
        {
          "output_type": "stream",
          "name": "stdout",
          "text": [
            "Aucun texte extrait pour : https://pokaa.fr/2024/09/09/ils-veulent-metamorphoser-strasbourg-18-grands-projets-qui-vont-rythmer-les-prochains-mois/\n",
            "Scraping: https://www.strasbourg.eu/-/atelier-reserve-naturelle\n",
            "Scraping: https://www.ekogai.fr\n",
            "Scraping: https://www.lescolsverts.fr/collectif-strasbourg\n"
          ]
        },
        {
          "output_type": "stream",
          "name": "stderr",
          "text": [
            "WARNING:trafilatura.core:discarding data: None\n"
          ]
        },
        {
          "output_type": "stream",
          "name": "stdout",
          "text": [
            "Aucun texte extrait pour : https://www.lescolsverts.fr/collectif-strasbourg\n",
            "Scraping: https://www.lescolsverts.fr/formation-fourchealafourchette\n"
          ]
        },
        {
          "output_type": "stream",
          "name": "stderr",
          "text": [
            "WARNING:trafilatura.core:discarding data: None\n"
          ]
        },
        {
          "output_type": "stream",
          "name": "stdout",
          "text": [
            "Aucun texte extrait pour : https://www.lescolsverts.fr/formation-fourchealafourchette\n",
            "Scraping: https://www.lescolsverts.fr/mooc-agricultures-urbaines\n"
          ]
        },
        {
          "output_type": "stream",
          "name": "stderr",
          "text": [
            "WARNING:trafilatura.core:discarding data: None\n"
          ]
        },
        {
          "output_type": "stream",
          "name": "stdout",
          "text": [
            "Aucun texte extrait pour : https://www.lescolsverts.fr/mooc-agricultures-urbaines\n",
            "Scraping: https://www.lescolsverts.fr/l-association\n"
          ]
        },
        {
          "output_type": "stream",
          "name": "stderr",
          "text": [
            "WARNING:trafilatura.core:discarding data: None\n"
          ]
        },
        {
          "output_type": "stream",
          "name": "stdout",
          "text": [
            "Aucun texte extrait pour : https://www.lescolsverts.fr/l-association\n",
            "Scraping: https://www.samudelenvironnement.org/accueil/à-propos-de-nous/\n",
            "Scraping: https://www.samudelenvironnement.org/accueil/nos-actions/\n",
            "Scraping: https://www.sikle.fr/ville-fertile\n",
            "Scraping: https://www.sikle.fr/les-composteurs-de-strasbourg\n",
            "Scraping: https://www.fondationdelamer.org/nos-actions/\n",
            "Scraping: https://zds.fr/presentation/\n",
            "Scraping: https://kooma-strasbourg.fr\n",
            "Scraping: https://alsacenature.org/decouvrir/nos-objectifs-nos-valeurs-et-nos-missions/\n",
            "Scraping: https://sinestrasbourg.org/sine/\n",
            "Scraping: https://www.rue89strasbourg.com/neuhof-nouvelle-epicerie-solidaire-298736\n",
            "Scraping: https://www.dna.fr/societe/2025/02/22/epicerie-solidaire-emerence-hufschmitt-recompensee\n",
            "Scraping: https://www.tchapp.alsace/articles/réseau-gds/bientôt-un-campus-solidaire-à-strasbourg.html\n",
            "Scraping: https://www.caritas-alsace.org/poles-activites/alimentation/epiceries-solidaires/\n",
            "Scraping: https://www.francebleu.fr/emissions/les-invites-de-la-redaction-de-ici-alsace/carole-bridault-coordinatrice-de-l-association-zero-dechet-strasbourg-4149759\n",
            "Scraping: https://www.lescolsverts.fr/collectif-strasbourg#:~:text=Les%20Cols%20Verts%20Strasbourg%2C%20c,le%20déclin%20de%20la%20biodiversité.\n"
          ]
        },
        {
          "output_type": "stream",
          "name": "stderr",
          "text": [
            "WARNING:trafilatura.core:discarding data: None\n"
          ]
        },
        {
          "output_type": "stream",
          "name": "stdout",
          "text": [
            "Aucun texte extrait pour : https://www.lescolsverts.fr/collectif-strasbourg#:~:text=Les%20Cols%20Verts%20Strasbourg%2C%20c,le%20déclin%20de%20la%20biodiversité.\n",
            "Scraping: https://www.hopla-ferme.fr/cooperative-producteurs-locaux/\n",
            "Scraping: https://marmelade.alsace/content/7-notre-philosophie\n",
            "Scraping: https://strasbourg.vrac-asso.org/demarche-reseau/\n",
            "Scraping: https://halledumarchegare.fr\n",
            "Scraping: https://www.francebleu.fr/emissions/bienvenue-chez-vous-en-alsace-la-cuisine/manger-sain-local-et-bio-avec-thierry-schwarz-a-la-decouverte-des-saveurs-vegetales-8835000\n",
            "Scraping: https://fermesaintandre.com/la-ferme/\n",
            "Scraping: https://fermesaintandre.com/abonnements/\n",
            "Scraping: https://fermesaintandre.com/le-magasin/la-ferme-saint-andre-de-friedolsheim/\n",
            "Scraping: https://fermesaintandre.com/le-magasin/la-halle-marche-gare-de-strasbourg/\n",
            "Scraping: https://www.batorama.com/fr/blog/epicerie-kooma-produits-fermiers-bio-strasbourg\n",
            "Scraping: https://www.campusvertstrasbourg.org/quest-ce-que-cest/\n",
            "Scraping: https://lecentremeinau.centres-sociaux.fr/panier-legumes/\n",
            "Scraping: https://riedoasis.fr\n",
            "Scraping: https://riedoasis.fr/paniers-bio\n",
            "Scraping: https://strasbourg.vrac-asso.org/vrac-etudiants-2/\n",
            "Scraping: https://www.les48h.com/villes/strasbourg/\n",
            "Scraping: https://www.strasbourg.eu/vers-agriculture-locale-durable-innovante\n",
            "Scraping: https://www.strasbourg.eu/louer-jardin-familial\n",
            "Scraping: https://ecoconseil.org/les-jardins-partages/\n",
            "Scraping: https://www.strasbourg.eu/-/quinzaine-jardins-partages-2024\n",
            "Scraping: https://pokaa.fr/2020/07/07/jardins-partages-de-strasbourg-ces-terrains-qui-nous-font-voir-la-ville-en-vert/\n"
          ]
        },
        {
          "output_type": "stream",
          "name": "stderr",
          "text": [
            "WARNING:trafilatura.utils:invalid ZSTD file\n",
            "ERROR:trafilatura.utils:parsed tree length: 1, wrong data type or not valid HTML\n",
            "ERROR:trafilatura.core:empty HTML tree: None\n",
            "WARNING:trafilatura.core:discarding data: None\n"
          ]
        },
        {
          "output_type": "stream",
          "name": "stdout",
          "text": [
            "Aucun texte extrait pour : https://pokaa.fr/2020/07/07/jardins-partages-de-strasbourg-ces-terrains-qui-nous-font-voir-la-ville-en-vert/\n",
            "Scraping: https://agricultures-urbaines.u-strasbg.fr/potagers-urbains-collectifs-puc/\n",
            "Scraping: https://www.strasbourg.eu/differentes-facons-de-jardiner\n",
            "Scraping: https://www.afp-germesdespoir.fr/index.php/le-jardin-partage/\n",
            "Scraping: https://live.unistra.fr/agenda/evenement/rencontres-decologie-du-paysage-appel-a-contributions#:~:text=AAC%20%2D%20%22Rencontres%20d'Ecologie,11%20avril%202025%20à%20Strasbourg.&text=Après%20un%20an%20d'attente,11%20avril%202025%20à%20Strasbourg.\n",
            "Scraping: https://www.strasbourg.eu/evenement/-/entity/id/511829810/rencontres-internationales-pour-l-ecologie-du-livre\n",
            "Scraping: https://www.eventbrite.fr/e/action-ecologique-ramassage-de-dechets-a-strasbourg-tickets-1297829576199\n",
            "Scraping: https://www.strasbourg.eu/dossier-odd\n",
            "Scraping: https://www.emploi-environnement.com/news/eco-conseiller-mastere-strasbourg-insa-developpement-durable-consultant-transition-ecologique-talents-for-planet-miranda-port-gerald-dudouet-935.html\n",
            "Scraping: https://www.unistra.fr/actualites-unistra/detail-actualite/23694-developpement-durable-et-responsabilite-societale-luniversite-de-strasbourg-obtient-la-labellisation-ddrs-pour-sa-demarche-de-transformation-socio-ecologique-1\n",
            "Scraping: https://www.sciencespo.fr/centre-etudes-europeennes/fr/evenements/conference-l-ecologie-depuis-les-ruralites/\n",
            "Scraping: https://www.jds.fr/strasbourg/foires-et-salons/brocantes/richstetter-johrmarik-marche-aux-puces-de-reichstett-613999_A\n",
            "Scraping: https://www.jds.fr/selestat/manifestations/carnaval/carnaval-a-chatenois-118668_A\n",
            "Scraping: https://www.jds.fr/manifestations/carnaval/carnaval-sundhouse-54256_A\n",
            "Scraping: https://www.jds.fr/strasbourg/manifestations/village-de-paques-de-strasbourg-104550_A\n",
            "Scraping: https://www.jds.fr/strasbourg/manifestations/cox-show-molsheim-103121_A\n",
            "Scraping: https://www.jds.fr/manifestations/journee-decouverte-a-la-vegetalerie-gissinger-882735_A?utm_source=jds.fr&utm_medium=brand_content&utm_campaign=882735_A\n",
            "Scraping: https://www.jds.fr/pornic/manifestations/ateliers/atelier-creation-peinture-vegetale-886005_A\n"
          ]
        },
        {
          "output_type": "stream",
          "name": "stderr",
          "text": [
            "ERROR:trafilatura.downloads:not a 200 response: 403 for URL https://www.lavoixdunord.fr/1551806/article/2025-02-05/quand-les-etablissements-scolaires-travaillent-pour-un-monde-zero-dechet-dans-l\n"
          ]
        },
        {
          "output_type": "stream",
          "name": "stdout",
          "text": [
            "Scraping: https://www.lavoixdunord.fr/1551806/article/2025-02-05/quand-les-etablissements-scolaires-travaillent-pour-un-monde-zero-dechet-dans-l\n",
            "Échec de téléchargement pour : https://www.lavoixdunord.fr/1551806/article/2025-02-05/quand-les-etablissements-scolaires-travaillent-pour-un-monde-zero-dechet-dans-l\n",
            "Scraping: https://www.jds.fr/selestat/manifestations/ateliers/cours-de-couture-selestat-350254_A\n",
            "Scraping: https://www.est-ensemble.fr/serd2024\n",
            "Scraping: https://www.jds.fr/strasbourg/manifestations/repair-cafe-391112_A\n",
            "Scraping: https://www.jds.fr/selestat/manifestations/repair-cafe-751307_A\n",
            "Scraping: https://www.dna.fr/environnement/2025/01/15/le-premier-repair-cafe-de-l-annee-aura-lieu-ce-samedi\n",
            "Scraping: https://www.dna.fr/economie/2025/03/21/redonnez-vie-a-vos-appareils-defectueux-au-repair-cafe\n",
            "Scraping: https://www.dna.fr/environnement/2025/01/15/la-ville-lance-la-nouvelle-phase-de-son-plan-climat\n",
            "Scraping: https://www.jds.fr/strasbourg/manifestations/rentree-associations-strasbourg-121069_A\n",
            "Scraping: https://www.jds.fr/strasbourg/foires-et-salons/vente-solidaire-du-dimanche-a-emmaus-mundo-le-dimanche-30-mars-2025-888234_A\n",
            "Scraping: https://www.jds.fr/strasbourg/foires-et-salons/vente-solidaire-du-dimanche-a-emmaus-mundo-le-dimanche-26-janvier-2025-781178_A\n",
            "Scraping: https://emmausmundo.com/nos-boutiques-emmaus/#bischheim\n",
            "Scraping: https://www.strasbourg.eu/-/-3-4millions-de-visiteurs-marche-noel-edition-2024\n",
            "Scraping: https://www.jds.fr/strasbourg/foires-et-salons/marches/braderie-solidaire-du-secours-populaire-bischwiller-881012_A\n",
            "Scraping: https://www.jds.fr/strasbourg/manifestations/marche-de-noel/marche-de-noel-solidaire-a-matzenheim-630069_A\n",
            "Scraping: https://pokaa.fr/2025/02/28/brocante-meconnue-et-balade-coloree-au-marche-on-a-passe-notre-samedi-matin-au-neudorf/\n"
          ]
        },
        {
          "output_type": "stream",
          "name": "stderr",
          "text": [
            "WARNING:trafilatura.utils:invalid ZSTD file\n"
          ]
        },
        {
          "output_type": "stream",
          "name": "stdout",
          "text": [
            "Scraping: https://www.dna.fr/economie/2025/01/17/le-magasin-bio-le-serpent-vert-a-ferme-mardi-14-janvier\n",
            "Scraping: https://www.francebleu.fr/emissions/l-eco-d-ici-ici-alsace/solibio-la-cooperative-grossiste-alsacienne-bio-a-le-vent-en-poupe-5368146\n",
            "Scraping: https://france3-regions.francetvinfo.fr/grand-est/bas-rhin/strasbourg-0/une-cooperative-agricole-en-plein-centre-ville-a-strasbourg-ville-ecologiste-la-validite-du-modele-reste-a-prouver-3124588.html\n",
            "Scraping: https://boutique.reussir.fr/poool/les-marches.html?mtm_campaign=LM-ARGU\n",
            "Scraping: https://www.strasbourg.eu/-/un-nouveau-site-de-mara%C3%AEchage-urbain-inaugur%C3%A9-%C3%A0-la-cit%C3%A9-de-l-ill\n",
            "Scraping: https://www.24heures.ch/restaurant-labbaye-de-montheron-fait-rimer-fin-palais-et-verte-foret-733613118864\n",
            "Scraping: https://actu.fr/normandie/gaillon_27275/gendarmerie-restaurant-scolaire-parc-de-la-verte-bonne-la-maire-de-gaillon-fait-le-point_62160280.html\n"
          ]
        },
        {
          "output_type": "stream",
          "name": "stderr",
          "text": [
            "ERROR:trafilatura.downloads:not a 200 response: 403 for URL https://actu.fr/normandie/gaillon_27275/gendarmerie-restaurant-scolaire-parc-de-la-verte-bonne-la-maire-de-gaillon-fait-le-point_62160280.html\n"
          ]
        },
        {
          "output_type": "stream",
          "name": "stdout",
          "text": [
            "Échec de téléchargement pour : https://actu.fr/normandie/gaillon_27275/gendarmerie-restaurant-scolaire-parc-de-la-verte-bonne-la-maire-de-gaillon-fait-le-point_62160280.html\n",
            "Scraping: https://www.unrp.com/2025/03/25/assemblee-generale-au-restaurant-larbre-vert/\n",
            "Scraping: https://www.jds.fr/strasbourg/foires-et-salons/foires/salon-de-l-agricuture-biologique-biobernai-106885_A\n",
            "Scraping: https://pokaa.fr/2024/04/10/a-strasbourg-le-resto-les-culottees-propose-une-cuisine-creative-et-engagee-au-bord-des-quais/\n"
          ]
        },
        {
          "output_type": "stream",
          "name": "stderr",
          "text": [
            "WARNING:trafilatura.utils:invalid ZSTD file\n",
            "ERROR:trafilatura.utils:parsed tree length: 1, wrong data type or not valid HTML\n",
            "ERROR:trafilatura.core:empty HTML tree: None\n",
            "WARNING:trafilatura.core:discarding data: None\n"
          ]
        },
        {
          "output_type": "stream",
          "name": "stdout",
          "text": [
            "Aucun texte extrait pour : https://pokaa.fr/2024/04/10/a-strasbourg-le-resto-les-culottees-propose-une-cuisine-creative-et-engagee-au-bord-des-quais/\n",
            "Scraping: https://www.strasbourg.eu/-/fabuleuses-l%C3%A9gumineuses-une-deuxi%C3%A8me-%C3%A9dition-prometteuse\n"
          ]
        }
      ]
    },
    {
      "cell_type": "markdown",
      "source": [
        "On vérifie quand même si ça marche :"
      ],
      "metadata": {
        "id": "XLDV8sdQl5so"
      }
    },
    {
      "cell_type": "code",
      "source": [
        "with open(\"textes_sites_scrapes.json\", \"r\", encoding=\"utf-8\") as f:\n",
        "    data = json.load(f)\n",
        "\n",
        "# Afficher les 3 premiers éléments\n",
        "for doc in data[:3]:\n",
        "    print(\"URL :\", doc[\"url\"])\n",
        "    print(\"Texte (début) :\", doc[\"texte\"][:600], \"...\")\n",
        "    print(\"-\" * 80)"
      ],
      "metadata": {
        "colab": {
          "base_uri": "https://localhost:8080/"
        },
        "id": "lz3GJVAEFe7y",
        "outputId": "eb54d6d4-a920-4b39-d207-38230b11fcb2"
      },
      "execution_count": null,
      "outputs": [
        {
          "output_type": "stream",
          "name": "stdout",
          "text": [
            "URL : https://www.reussir.fr/fruits-legumes/un-concept-innovant-pour-ecouler-mes-produits\n",
            "Texte (début) : « Un concept innovant pour écouler mes produits »\n",
            "Le producteur alsacien Jean-Michel Obrecht a choisi de lier sa passion avec son métier en créant une boutique de produits locaux et chinés en brocante. Zoom sur ce projet au cœur de Strasbourg. [Texte d'Eléonore Chombart]\n",
            "Le producteur alsacien Jean-Michel Obrecht a choisi de lier sa passion avec son métier en créant une boutique de produits locaux et chinés en brocante. Zoom sur ce projet au cœur de Strasbourg. [Texte d'Eléonore Chombart]\n",
            "Depuis un peu plus d’un an, un commerce original a ouvert ses portes à Strasbourg. Dans les rayons de « Ma ...\n",
            "--------------------------------------------------------------------------------\n",
            "URL : https://www.dna.fr/politique/2025/01/15/un-vrai-elan-de-solidarite-pour-l-epicerie-sociale\n",
            "Texte (début) : Gundershoffen Un vrai élan de solidarité pour l’épicerie sociale\n",
            "« L’épicerie sociale intercommunale est l’une des fiertés de l’intercommunalité et il est honorable pour une structure à vocation principalement économique de donner également un souffle d’humanité à ses politiques », affirme le président de la communauté de communes...\n",
            "...pour lire la suite, rejoignez notre communauté d'abonnés\n",
            "et accédez à l'intégralité de nos articles sur le site et l'application mobile\n",
            "à partir de 1 € le 1er mois, sans engagement de durée\n",
            "1€ le 1er mois puis 12,99€ ...\n",
            "--------------------------------------------------------------------------------\n",
            "URL : https://www.dna.fr/societe/2021/12/03/l-epicerie-sociale-ne-connait-pas-la-crise\n",
            "Texte (début) : Gundershoffen L’épicerie sociale ne connaît pas la crise\n",
            "À Gundershoffen, l’épicerie solidaire continue d’assurer son service, plus de dix ans après son ouverture. Deux jours par semaine, elle accueille des personnes précaires pour qu’elles puissent faire leurs courses à un tarif très réduit (10 % du prix de vente en magasin). Ce mardi matin, quelques bénévoles s’activent pour ranger les dons de la collecte annuelle de la banque alimentaire du Bas-Rhin et même quelques légumes apportés par des particuliers.\n",
            "Ouverte en 2010 dans un petit local de Reichshoffen, l’épicerie sociale a déménagé à l’ ...\n",
            "--------------------------------------------------------------------------------\n"
          ]
        }
      ]
    },
    {
      "cell_type": "markdown",
      "source": [
        "Ensuite il y avait un API pour les fermes locales"
      ],
      "metadata": {
        "id": "NS37lKKbmBwh"
      }
    },
    {
      "cell_type": "code",
      "source": [
        "import requests\n",
        "\n",
        "url = \"https://data.strasbourg.eu/api/explore/v2.1/catalog/datasets/vente_a_la_ferme/records\"\n",
        "params = {\n",
        "    \"limit\": -1\n",
        "}\n",
        "\n",
        "rep = requests.get(url, params=params)\n",
        "data = rep.json()"
      ],
      "metadata": {
        "id": "0QxfV_CEirCD"
      },
      "execution_count": null,
      "outputs": []
    },
    {
      "cell_type": "code",
      "source": [
        "resultats_api = []\n",
        "\n",
        "for rc in data.get(\"results\", []):\n",
        "    texte = f\"Nom : {rc.get('nom')}\\n\"\n",
        "    texte += f\"Adresse : {rc.get('adresse')}\\n\"\n",
        "    texte += f\"Produits : {rc.get('produits', '')}\\n\"\n",
        "    texte += f\"Horaires : {rc.get('horaires', '')}\\n\"\n",
        "    texte += f\"Contact : {rc.get('telephone', '')}, {rc.get('email', '')}\"\n",
        "\n",
        "    resultats_api.append({\n",
        "        \"url\": url,\n",
        "        \"texte\": texte\n",
        "    })\n",
        "\n",
        "#on vérifie si ça a marché, ici oui\n",
        "for r in resultats_api[:3]:\n",
        "    print(r[\"texte\"])\n",
        "    print(\"-\" * 60) #démarquation pour y voir plus clair"
      ],
      "metadata": {
        "colab": {
          "base_uri": "https://localhost:8080/"
        },
        "id": "YQPKayT_jEv2",
        "outputId": "4ec0c50f-eed5-4250-9022-aef57e6fb33d"
      },
      "execution_count": null,
      "outputs": [
        {
          "output_type": "stream",
          "name": "stdout",
          "text": [
            "Nom : None\n",
            "Adresse : 51 route d'Olwisheim\n",
            "Produits : Fruits, légumes et fleurs\n",
            "Horaires : \n",
            "Contact : 06 48 13 61 99, jardindes4saisons@wanadoo.fr\n",
            "------------------------------------------------------------\n",
            "Nom : None\n",
            "Adresse : 100 rue de la 1ère Division Blindée\n",
            "Produits : Légumes, pommes de terre, fruits, petits fruits, fraises, miel, oeufs\n",
            "Horaires : \n",
            "Contact : 03 88 64 19 86, clauhiss@estvideo.fr\n",
            "------------------------------------------------------------\n",
            "Nom : None\n",
            "Adresse : 12 rue de l'Ecole\n",
            "Produits : Pissenlit en saison et pommes de terre\n",
            "Horaires : \n",
            "Contact : 03 69 26 27 30, patrick.schoettel@estvideo.fr\n",
            "------------------------------------------------------------\n"
          ]
        }
      ]
    },
    {
      "cell_type": "code",
      "source": [
        "with open(\"textes_sites_scrapes.json\", \"r\", encoding=\"utf-8\") as f:\n",
        "    data_existante = json.load(f)\n",
        "\n",
        "data_existante.extend(resultats_api)\n",
        "\n",
        "with open(\"textes_sites_scrapes.json\", \"w\", encoding=\"utf-8\") as f:\n",
        "    json.dump(data_existante, f, ensure_ascii=False, indent=2)"
      ],
      "metadata": {
        "id": "u6PSouyzjeLt"
      },
      "execution_count": null,
      "outputs": []
    },
    {
      "cell_type": "markdown",
      "source": [
        "Pour finir on télécharge le JSON"
      ],
      "metadata": {
        "id": "huM_TB_Xwio6"
      }
    },
    {
      "cell_type": "code",
      "source": [
        "from google.colab import files\n",
        "files.download(\"textes_sites_scrapes.json\")"
      ],
      "metadata": {
        "colab": {
          "base_uri": "https://localhost:8080/",
          "height": 17
        },
        "id": "9xYhtOizwhuE",
        "outputId": "67844d0f-5c80-4e59-adb7-aa1676d54514"
      },
      "execution_count": null,
      "outputs": [
        {
          "output_type": "display_data",
          "data": {
            "text/plain": [
              "<IPython.core.display.Javascript object>"
            ],
            "application/javascript": [
              "\n",
              "    async function download(id, filename, size) {\n",
              "      if (!google.colab.kernel.accessAllowed) {\n",
              "        return;\n",
              "      }\n",
              "      const div = document.createElement('div');\n",
              "      const label = document.createElement('label');\n",
              "      label.textContent = `Downloading \"${filename}\": `;\n",
              "      div.appendChild(label);\n",
              "      const progress = document.createElement('progress');\n",
              "      progress.max = size;\n",
              "      div.appendChild(progress);\n",
              "      document.body.appendChild(div);\n",
              "\n",
              "      const buffers = [];\n",
              "      let downloaded = 0;\n",
              "\n",
              "      const channel = await google.colab.kernel.comms.open(id);\n",
              "      // Send a message to notify the kernel that we're ready.\n",
              "      channel.send({})\n",
              "\n",
              "      for await (const message of channel.messages) {\n",
              "        // Send a message to notify the kernel that we're ready.\n",
              "        channel.send({})\n",
              "        if (message.buffers) {\n",
              "          for (const buffer of message.buffers) {\n",
              "            buffers.push(buffer);\n",
              "            downloaded += buffer.byteLength;\n",
              "            progress.value = downloaded;\n",
              "          }\n",
              "        }\n",
              "      }\n",
              "      const blob = new Blob(buffers, {type: 'application/binary'});\n",
              "      const a = document.createElement('a');\n",
              "      a.href = window.URL.createObjectURL(blob);\n",
              "      a.download = filename;\n",
              "      div.appendChild(a);\n",
              "      a.click();\n",
              "      div.remove();\n",
              "    }\n",
              "  "
            ]
          },
          "metadata": {}
        },
        {
          "output_type": "display_data",
          "data": {
            "text/plain": [
              "<IPython.core.display.Javascript object>"
            ],
            "application/javascript": [
              "download(\"download_47194ad3-9ff8-4c95-95a6-0315b90e5a9a\", \"textes_sites_scrapes.json\", 292032)"
            ]
          },
          "metadata": {}
        }
      ]
    }
  ]
}